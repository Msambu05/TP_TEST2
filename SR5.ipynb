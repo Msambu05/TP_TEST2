{
 "cells": [
  {
   "cell_type": "markdown",
   "id": "495ac376-826c-4703-88bb-4c7f9b722148",
   "metadata": {},
   "source": [
    "# BINARY SEARCH ALGORITHM\n",
    "# Time and Space complexity effeciency in terms of Bog-O Notation\n",
    "\n",
    "# Time Complexity\n",
    "\n",
    "Binary search's time complexity is O(log n), meaning its performance improves numerically with the size of the input.\n",
    "It quickly reduces the search space by half in each step, leading to fast search times, especially for large datasets.\n",
    "\n",
    "# Space Complexity\n",
    "\n",
    "Binary search has a space complexity of O(1), meaning it uses a constant amount of memory.\n",
    "It doesn't require additional memory proportional to the size of the input, making it memory-efficient.\n",
    "\n",
    "# Conclusion\n",
    "\n",
    "Binary search efficiently finds elements in large sorted datasets with its logarithmic time complexity.\n",
    "It's memory-efficient, using a fixed amount of memory regardless of the dataset size."
   ]
  },
  {
   "cell_type": "code",
   "execution_count": null,
   "id": "6eaf0a53-06c5-4aff-81d3-70f6b5c1804e",
   "metadata": {},
   "outputs": [],
   "source": []
  }
 ],
 "metadata": {
  "kernelspec": {
   "display_name": "Python 3 (ipykernel)",
   "language": "python",
   "name": "python3"
  },
  "language_info": {
   "codemirror_mode": {
    "name": "ipython",
    "version": 3
   },
   "file_extension": ".py",
   "mimetype": "text/x-python",
   "name": "python",
   "nbconvert_exporter": "python",
   "pygments_lexer": "ipython3",
   "version": "3.11.9"
  }
 },
 "nbformat": 4,
 "nbformat_minor": 5
}
