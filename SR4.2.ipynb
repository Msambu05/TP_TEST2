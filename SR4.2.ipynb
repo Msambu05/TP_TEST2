{
 "cells": [
  {
   "cell_type": "code",
   "execution_count": 1,
   "id": "c3837320-a093-4d33-b57f-a9c25609e0db",
   "metadata": {},
   "outputs": [],
   "source": [
    "import pandas as pd"
   ]
  },
  {
   "cell_type": "code",
   "execution_count": 2,
   "id": "49c0ec84-6e70-4b8d-a6b2-7bee7ddb6e97",
   "metadata": {},
   "outputs": [],
   "source": [
    "df = pd.read_csv(\"C:/Users/sambu/household_data.csv\")"
   ]
  },
  {
   "cell_type": "markdown",
   "id": "0d375b90-d69c-4ab3-9768-e8b58c906399",
   "metadata": {},
   "source": [
    "# Linear search\n",
    "\n",
    "Linear search is like looking for something by checking every item one by one, e.g. It works fine if you have a small phone book, but if you have a very big phone book, it might take a long time because you have to look through every single name.\n",
    "\n",
    "# Binary Search\n",
    "\n",
    "Binary search is like a smarter way of looking for something by dividing the search area in half each time, is much faster, especially for large phone books, because you're cutting down the search space by half with each step.\n",
    "\n",
    "# Conclusion\n",
    "Binary search is faster for large datasets, but it requires the data to be sorted beforehand, which adds a bit of extra work upfront. So, the choice between linear and binary search depends on how big the dataset is, whether it's sorted, and how quickly you need to find things.\n"
   ]
  },
  {
   "cell_type": "code",
   "execution_count": 3,
   "id": "a9a348d9-1638-4345-a681-04b2df4cc18a",
   "metadata": {},
   "outputs": [
    {
     "name": "stdout",
     "output_type": "stream",
     "text": [
      "Linear Search: Household_ID 143 found at index 5\n",
      "Binary Search: Household_ID 143 found at index 5\n"
     ]
    }
   ],
   "source": [
    "# Linear Search\n",
    "def linear_search(arr, target):\n",
    "    for i in range(len(arr)):\n",
    "        if arr[i] == target:\n",
    "            return i  # Return the index if the target is found\n",
    "    return -1  # Return -1 if the target is not found\n",
    "\n",
    "# Binary Search\n",
    "def binary_search(varr, target):\n",
    "    low = 0\n",
    "    high = len(varr) - 1\n",
    "    while low <= high:\n",
    "        mid = (low + high) // 2\n",
    "        if varr[mid] == target:\n",
    "            return mid  # if the target is found\n",
    "        elif varr[mid] < target:\n",
    "            low = mid + 1\n",
    "        else:\n",
    "            high = mid - 1\n",
    "    return -1  # if the target is not found\n",
    "\n",
    "# In the dataset (Household_ID)\n",
    "\n",
    "house_ids = [13, 20, 33, 55, 98, 143, 322, 487, 763, 950]\n",
    "\n",
    "# Search for a specific Household_ID using linear search\n",
    "\n",
    "target_id = 143\n",
    "linear_results = linear_search(house_ids, target_id)\n",
    "\n",
    "# Search for the same Household_ID using binary search (assuming the list is sorted)\n",
    "\n",
    "sorted_house_ids = sorted(house_ids)\n",
    "binary_results = binary_search(sorted_house_ids, target_id)\n",
    "\n",
    "# Print the results\n",
    "\n",
    "if linear_results != -1:\n",
    "    print(f\"Linear Search: Household_ID {target_id} found at index {linear_results}\")\n",
    "else:\n",
    "    print(f\"Linear Search: Household_ID {target_id} not found\")\n",
    "\n",
    "if binary_results != -1:\n",
    "    print(f\"Binary Search: Household_ID {target_id} found at index {binary_results}\")\n",
    "else:\n",
    "    print(f\"Binary Search: Household_ID {target_id} not found\")\n"
   ]
  },
  {
   "cell_type": "code",
   "execution_count": null,
   "id": "417e50b7-92f8-4eec-bea4-1e060549bc86",
   "metadata": {},
   "outputs": [],
   "source": []
  }
 ],
 "metadata": {
  "kernelspec": {
   "display_name": "Python 3 (ipykernel)",
   "language": "python",
   "name": "python3"
  },
  "language_info": {
   "codemirror_mode": {
    "name": "ipython",
    "version": 3
   },
   "file_extension": ".py",
   "mimetype": "text/x-python",
   "name": "python",
   "nbconvert_exporter": "python",
   "pygments_lexer": "ipython3",
   "version": "3.11.9"
  }
 },
 "nbformat": 4,
 "nbformat_minor": 5
}
