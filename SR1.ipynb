{
 "cells": [
  {
   "cell_type": "markdown",
   "id": "9fee7fff-e331-4cbd-a1bc-5b9f7489a669",
   "metadata": {},
   "source": [
    "# I creaated the dataset used in this test using a Python code in Vscode.\n",
    "\n",
    "**Using the information i found on Statistics SA, I managed to create this dataset using Real-time information. It contains a number of characteristics related to socioeconomic status, household demographics, and accessibility to needs. With an emphasis on informal settlements, this dataset's regulated features, relevance to the study aims, and flexibility for analysis make it a good option for undertaking exploratory data analysis to learn more about home conditions and demographics. Furthermore, the use of synthetic data reduces privacy worries related to sensitive information found in real-world datasets.**"
   ]
  },
  {
   "cell_type": "code",
   "execution_count": 10,
   "id": "5397c23a-1a4f-4f2b-89f4-afdea349846f",
   "metadata": {},
   "outputs": [],
   "source": [
    "import pandas as pd"
   ]
  },
  {
   "cell_type": "code",
   "execution_count": 11,
   "id": "58ae7aa7-7cd5-49fb-b974-185f9b196b49",
   "metadata": {},
   "outputs": [],
   "source": [
    "df = pd.read_csv(\"C:/Users/sambu/household_data.csv\")"
   ]
  },
  {
   "cell_type": "code",
   "execution_count": 12,
   "id": "5689cebc-9711-46bb-9f01-c11db561ab77",
   "metadata": {},
   "outputs": [
    {
     "name": "stdout",
     "output_type": "stream",
     "text": [
      "   Household_ID  Disabled_Individual       Province Type_Income  \\\n",
      "0             1                    1     Mpumalanga       Grant   \n",
      "1             2                    0  Northern Cape       Other   \n",
      "2             3                    1     Free State       Grant   \n",
      "3             4                    0     North West     Pension   \n",
      "4             5                    2   Eastern Cape       Grant   \n",
      "\n",
      "     Housing_Type Electricity_Access Water_Access Sanitation Waste_Removal  \\\n",
      "0        Mjondolo                 No           No       Poor            No   \n",
      "1           Rural                Yes           No       Poor            No   \n",
      "2  Squatter camps                Yes           No       Good           Yes   \n",
      "3           Urban                Yes           No       Poor            No   \n",
      "4  Squatter camps                Yes           No       Poor           Yes   \n",
      "\n",
      "  Telecommunications Food_Access  Population Education_Level Health_Issues  \\\n",
      "0         Cellphones         Yes           6        Tertiary           Low   \n",
      "1           Internet          No           4         Primary           Low   \n",
      "2          LandLines          No           6       Secondary        Medium   \n",
      "3          LandLines         Yes           3       Secondary           Low   \n",
      "4          LandLines         Yes           6        Tertiary           Low   \n",
      "\n",
      "   Longitude   Latitude  \n",
      "0  31.690109 -24.543815  \n",
      "1  30.335506 -22.510259  \n",
      "2  31.108999 -25.461166  \n",
      "3  26.306347 -28.746542  \n",
      "4  28.560276 -22.496947  \n"
     ]
    }
   ],
   "source": [
    "print(df.head())"
   ]
  },
  {
   "cell_type": "code",
   "execution_count": 13,
   "id": "cbc194c5-4046-4fbe-8723-50e95a590fa4",
   "metadata": {},
   "outputs": [
    {
     "data": {
      "text/plain": [
       "Index(['Household_ID', 'Disabled_Individual', 'Province', 'Type_Income',\n",
       "       'Housing_Type', 'Electricity_Access', 'Water_Access', 'Sanitation',\n",
       "       'Waste_Removal', 'Telecommunications', 'Food_Access', 'Population',\n",
       "       'Education_Level', 'Health_Issues', 'Longitude', 'Latitude'],\n",
       "      dtype='object')"
      ]
     },
     "execution_count": 13,
     "metadata": {},
     "output_type": "execute_result"
    }
   ],
   "source": [
    "df.columns"
   ]
  },
  {
   "cell_type": "code",
   "execution_count": null,
   "id": "f4cb6eb3-b1cb-40dc-a24a-ddbf29126d08",
   "metadata": {},
   "outputs": [],
   "source": []
  }
 ],
 "metadata": {
  "kernelspec": {
   "display_name": "Python 3 (ipykernel)",
   "language": "python",
   "name": "python3"
  },
  "language_info": {
   "codemirror_mode": {
    "name": "ipython",
    "version": 3
   },
   "file_extension": ".py",
   "mimetype": "text/x-python",
   "name": "python",
   "nbconvert_exporter": "python",
   "pygments_lexer": "ipython3",
   "version": "3.11.9"
  }
 },
 "nbformat": 4,
 "nbformat_minor": 5
}
