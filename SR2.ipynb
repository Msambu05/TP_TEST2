{
 "cells": [
  {
   "cell_type": "code",
   "execution_count": 2,
   "id": "64f7e0e0-5a28-4a5b-b0fe-3701b06ddfe6",
   "metadata": {},
   "outputs": [],
   "source": [
    "import pandas as pd"
   ]
  },
  {
   "cell_type": "code",
   "execution_count": 3,
   "id": "4cbaaba1-3599-4186-adb9-a63ae7ce0953",
   "metadata": {},
   "outputs": [],
   "source": [
    "df = pd.read_csv(\"C:/Users/sambu/household_data.csv\")"
   ]
  },
  {
   "cell_type": "code",
   "execution_count": 6,
   "id": "6a807121-7819-46d3-88cb-9818240e81bc",
   "metadata": {},
   "outputs": [
    {
     "name": "stdout",
     "output_type": "stream",
     "text": [
      "Size of the dataset (rows, columns):  (1500, 16)\n",
      "\n",
      "Data types of columns: \n",
      "Household_ID             int64\n",
      "Disabled_Individual      int64\n",
      "Province                object\n",
      "Type_Income             object\n",
      "Housing_Type            object\n",
      "Electricity_Access      object\n",
      "Water_Access            object\n",
      "Sanitation              object\n",
      "Waste_Removal           object\n",
      "Telecommunications      object\n",
      "Food_Access             object\n",
      "Population               int64\n",
      "Education_Level         object\n",
      "Health_Issues           object\n",
      "Longitude              float64\n",
      "Latitude               float64\n",
      "dtype: object\n",
      "\n",
      "Columns in the dataset: \n",
      "Index(['Household_ID', 'Disabled_Individual', 'Province', 'Type_Income',\n",
      "       'Housing_Type', 'Electricity_Access', 'Water_Access', 'Sanitation',\n",
      "       'Waste_Removal', 'Telecommunications', 'Food_Access', 'Population',\n",
      "       'Education_Level', 'Health_Issues', 'Longitude', 'Latitude'],\n",
      "      dtype='object')\n",
      "\n",
      "First few rows of the dataset: \n",
      "   Household_ID  Disabled_Individual       Province Type_Income  \\\n",
      "0             1                    1     Mpumalanga       Grant   \n",
      "1             2                    0  Northern Cape       Other   \n",
      "2             3                    1     Free State       Grant   \n",
      "3             4                    0     North West     Pension   \n",
      "4             5                    2   Eastern Cape       Grant   \n",
      "\n",
      "     Housing_Type Electricity_Access Water_Access Sanitation Waste_Removal  \\\n",
      "0        Mjondolo                 No           No       Poor            No   \n",
      "1           Rural                Yes           No       Poor            No   \n",
      "2  Squatter camps                Yes           No       Good           Yes   \n",
      "3           Urban                Yes           No       Poor            No   \n",
      "4  Squatter camps                Yes           No       Poor           Yes   \n",
      "\n",
      "  Telecommunications Food_Access  Population Education_Level Health_Issues  \\\n",
      "0         Cellphones         Yes           6        Tertiary           Low   \n",
      "1           Internet          No           4         Primary           Low   \n",
      "2          LandLines          No           6       Secondary        Medium   \n",
      "3          LandLines         Yes           3       Secondary           Low   \n",
      "4          LandLines         Yes           6        Tertiary           Low   \n",
      "\n",
      "   Longitude   Latitude  \n",
      "0  31.690109 -24.543815  \n",
      "1  30.335506 -22.510259  \n",
      "2  31.108999 -25.461166  \n",
      "3  26.306347 -28.746542  \n",
      "4  28.560276 -22.496947  \n"
     ]
    }
   ],
   "source": [
    "# Understanding the size, data types, columns, rows, data slicing\n",
    "\n",
    "print(\"Size of the dataset (rows, columns): \", df.shape)\n",
    "\n",
    "print(\"\\nData types of columns: \")\n",
    "print(df.dtypes)\n",
    "\n",
    "print(\"\\nColumns in the dataset: \")\n",
    "print(df.columns)\n",
    "\n",
    "print(\"\\nFirst few rows of the dataset: \")\n",
    "print(df.head())"
   ]
  },
  {
   "cell_type": "code",
   "execution_count": 8,
   "id": "dc961b4a-d7cb-4c63-a325-16da4c639a2d",
   "metadata": {},
   "outputs": [
    {
     "name": "stdout",
     "output_type": "stream",
     "text": [
      "Household_ID           0\n",
      "Disabled_Individual    0\n",
      "Province               0\n",
      "Type_Income            0\n",
      "Housing_Type           0\n",
      "Electricity_Access     0\n",
      "Water_Access           0\n",
      "Sanitation             0\n",
      "Waste_Removal          0\n",
      "Telecommunications     0\n",
      "Food_Access            0\n",
      "Population             0\n",
      "Education_Level        0\n",
      "Health_Issues          0\n",
      "Longitude              0\n",
      "Latitude               0\n",
      "dtype: int64\n"
     ]
    }
   ],
   "source": [
    "# Identifying missing data\n",
    "missing_values = df.isnull().sum()\n",
    "print(missing_values)"
   ]
  },
  {
   "cell_type": "markdown",
   "id": "799baf00-466f-416f-9473-d7ae5b48457a",
   "metadata": {},
   "source": [
    "# Describing the data types in relation to machine learning.\n",
    "\n",
    "# 1. NUMERICAL DATA\n",
    "Also known as quantitative data, involves numbers and values that can be measured and ordered.\n",
    "\n",
    "**Using the Population Column**\n",
    "**Data type: Integer**,\n",
    "**Usage in ML:** This column represents the number of people in each household.\n",
    "It can be used to predict outcomes such as income level or resource allocation.\n",
    "\n",
    "# 2. CATEGORICAL DATA\n",
    "Also known as Qualitative data, represents characteristics or labels that can not typically be quantified.\n",
    "\n",
    "**using the Province Column**\n",
    "**Data type: Nominal Categorical**,\n",
    "**Usage in ML:** This feature can be used in classification models to predict regional trends or resource distribution.\n",
    "\n",
    "# 3. BINARY DATA\n",
    "Binary data is a special case of categorical data with only two possible values, typically representing a yes/no or true/false condition\n",
    "\n",
    "**Using the Electricity_Access Column**\n",
    "**Data Type: Binary**,\n",
    "**Description**: The Electricity_Access column indicates whether a household has access to electricity (Yes or No).\n",
    "**Usage in ML:** This binary feature can be used in classification models to predict binary outcomes, such as access to utilities.\n",
    "\n",
    "# 4. ORDINAL DATA\n",
    "Ordinal data represents categorical data with a meaningful order but no fixed interval between values. It is used when the order of categories is important but the exact differences between categories are not known.\n",
    "\n",
    "**Using the Sanitation Column**\n",
    "The Sanitation column represents the level of sanitation available to the household, with categories like Improved, Good, and Poor.\n",
    "**Data Type: Ordinal Categorical**,\n",
    "**Usage in ML:** This ordinal feature can be used in classification models where the order of categories provides valuable information, such as in predicting health outcomes.\n",
    "\n",
    "# 5. BOOLEAN DATA\n",
    "Boolean data represents binary values of True or False. It is similar to binary data but specifically used for logical operations and conditions.\n",
    "\n",
    "**Using the Food_Access**\n",
    "The Food_Access column indicates whether a household has access to sufficient food (Yes or No).\n",
    "**Data Type: Boolean**,\n",
    "**Usage in ML**: This boolean feature can be used in classification models to predict conditions related to food security.\n"
   ]
  },
  {
   "cell_type": "code",
   "execution_count": null,
   "id": "4947b9f5-a220-46b5-a46d-29504f733db7",
   "metadata": {},
   "outputs": [],
   "source": []
  }
 ],
 "metadata": {
  "kernelspec": {
   "display_name": "Python 3 (ipykernel)",
   "language": "python",
   "name": "python3"
  },
  "language_info": {
   "codemirror_mode": {
    "name": "ipython",
    "version": 3
   },
   "file_extension": ".py",
   "mimetype": "text/x-python",
   "name": "python",
   "nbconvert_exporter": "python",
   "pygments_lexer": "ipython3",
   "version": "3.11.9"
  }
 },
 "nbformat": 4,
 "nbformat_minor": 5
}
