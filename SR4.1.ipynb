{
 "cells": [
  {
   "cell_type": "code",
   "execution_count": 1,
   "id": "a87dd730-0a7a-4709-8555-c9915bae0584",
   "metadata": {},
   "outputs": [],
   "source": [
    "import pandas as pd"
   ]
  },
  {
   "cell_type": "code",
   "execution_count": 2,
   "id": "e87a3444-e3e7-4c13-b64d-f1d2220eda2d",
   "metadata": {},
   "outputs": [],
   "source": [
    "df = pd.read_csv(\"C:/Users/sambu/household_data.csv\")"
   ]
  },
  {
   "cell_type": "code",
   "execution_count": 6,
   "id": "44c13ecd-c6d5-4019-bf16-c07f3b0cf68a",
   "metadata": {},
   "outputs": [
    {
     "name": "stdout",
     "output_type": "stream",
     "text": [
      "   Household_ID  Disabled_Individual       Province Type_Income  \\\n",
      "0             1                    1     Mpumalanga       Grant   \n",
      "1             2                    0  Northern Cape       Other   \n",
      "2             3                    1     Free State       Grant   \n",
      "3             4                    0     North West     Pension   \n",
      "4             5                    2   Eastern Cape       Grant   \n",
      "\n",
      "     Housing_Type Electricity_Access Water_Access Sanitation Waste_Removal  \\\n",
      "0        Mjondolo                 No           No       Poor            No   \n",
      "1           Rural                Yes           No       Poor            No   \n",
      "2  Squatter camps                Yes           No       Good           Yes   \n",
      "3           Urban                Yes           No       Poor            No   \n",
      "4  Squatter camps                Yes           No       Poor           Yes   \n",
      "\n",
      "  Telecommunications Food_Access  Population Education_Level Health_Issues  \\\n",
      "0         Cellphones         Yes           3        Tertiary           Low   \n",
      "1           Internet          No           3         Primary           Low   \n",
      "2          LandLines          No           3       Secondary        Medium   \n",
      "3          LandLines         Yes           3       Secondary           Low   \n",
      "4          LandLines         Yes           3        Tertiary           Low   \n",
      "\n",
      "   Longitude   Latitude  \n",
      "0  31.690109 -24.543815  \n",
      "1  30.335506 -22.510259  \n",
      "2  31.108999 -25.461166  \n",
      "3  26.306347 -28.746542  \n",
      "4  28.560276 -22.496947  \n"
     ]
    }
   ],
   "source": [
    "# INSERTION SORT ALGORITHM\n",
    "# Insertion Sort implementation to sort the prefered column\n",
    "def insertion_sort(varr):\n",
    "    for r in range(1, len(varr)):\n",
    "        key = varr[r]\n",
    "        y = r - 1\n",
    "        while y >= 0 and key < varr[y]:\n",
    "            varr[y + 1] = varr[y]\n",
    "            y -= 1\n",
    "        varr[y + 1] = key\n",
    "    return varr\n",
    "\n",
    "# Sorting the Population column\n",
    "sorted_population = insertion_sort(df['Population'].to_list())\n",
    "\n",
    "# Create a new Dataset with the sorted Population column\n",
    "sorted_df = df.copy()\n",
    "sorted_df['Population'] = sorted_population\n",
    "\n",
    "# Print the few rows of the sorted Dataset\n",
    "print(sorted_df.head())"
   ]
  },
  {
   "cell_type": "code",
   "execution_count": null,
   "id": "c4e2f474-1ce2-4fa3-a8d5-92884df3fba3",
   "metadata": {},
   "outputs": [],
   "source": []
  },
  {
   "cell_type": "code",
   "execution_count": null,
   "id": "3d176507-2348-4171-88bb-bb9feb95e95f",
   "metadata": {},
   "outputs": [],
   "source": []
  },
  {
   "cell_type": "code",
   "execution_count": null,
   "id": "759ed921-81bf-4963-b66f-7d1fb372cebf",
   "metadata": {},
   "outputs": [],
   "source": []
  }
 ],
 "metadata": {
  "kernelspec": {
   "display_name": "Python 3 (ipykernel)",
   "language": "python",
   "name": "python3"
  },
  "language_info": {
   "codemirror_mode": {
    "name": "ipython",
    "version": 3
   },
   "file_extension": ".py",
   "mimetype": "text/x-python",
   "name": "python",
   "nbconvert_exporter": "python",
   "pygments_lexer": "ipython3",
   "version": "3.11.9"
  }
 },
 "nbformat": 4,
 "nbformat_minor": 5
}
